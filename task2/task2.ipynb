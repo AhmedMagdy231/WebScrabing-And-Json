{
 "cells": [
  {
   "cell_type": "code",
   "execution_count": 2,
   "metadata": {},
   "outputs": [],
   "source": [
    "from bs4 import BeautifulSoup\n",
    "import requests\n",
    "from datetime import datetime\n",
    "import csv\n",
    "import time\n",
    "url = 'https://eg.freemeteo.com/weather/cairo/current-weather/location/?gid=360630&language=english&country=egypt'\n",
    "response = requests.get(url)\n",
    "soup = BeautifulSoup(response.text,'html.parser')\n",
    "\n"
   ]
  },
  {
   "cell_type": "code",
   "execution_count": 58,
   "metadata": {},
   "outputs": [
    {
     "data": {
      "text/plain": [
       "'2021-12-17 03:43:07.857546'"
      ]
     },
     "execution_count": 58,
     "metadata": {},
     "output_type": "execute_result"
    }
   ],
   "source": [
    "\n",
    "'''\n",
    "with open ('weather.csv','a+',newline='')as f:\n",
    "    Writer = csv.DictWriter(f,fieldnames=['temperature','speed wind','humidity','Visibility','pressure','date'])\n",
    "    Writer.writeheader()\n",
    "\n",
    "'''\n",
    "\n",
    "\n",
    "for i in range(11):\n",
    "    #get temp\n",
    "    div = soup.find('div',class_= 'temp')\n",
    "    temp = int( div.text.split('°')[0])\n",
    "    #get speed wind\n",
    "    div = soup.find('div',class_='wind')\n",
    "    white = div.find('span',class_ = 'white')\n",
    "    speedWind = int(white.find('b').text)\n",
    "    # get stats (humidity Visibility  Pressure)\n",
    "    div = soup.find('div',class_= 'stats')\n",
    "    stats_list = div.text.split('|')\n",
    "    humidity = stats_list[0].strip().split('\\n')[1].strip()\n",
    "    Visibility = stats_list[1].strip().split('\\n')[1].strip()\n",
    "    Pressure =  stats_list[2].strip().split('\\n')[1].strip().split('.')[0] + '.0bm'\n",
    "\n",
    "    # get date and time\n",
    "    date = datetime.now()\n",
    "\n",
    "    with open ('weather.csv','a+',newline='')as f:\n",
    "        \n",
    "        Writer = csv.DictWriter(f,fieldnames=['temperature','speed wind','humidity','Visibility','pressure','date'])\n",
    "        Writer.writerow({'temperature':temp, 'speed wind':speedWind, 'humidity':humidity, 'Visibility':Visibility, 'pressure':Pressure, 'date':str(date)})\n",
    "    \n",
    " \n",
    "    time.sleep(60)\n",
    "\n",
    "\n",
    "\n",
    "\n",
    "\n",
    "\n",
    "\n"
   ]
  },
  {
   "cell_type": "code",
   "execution_count": 42,
   "metadata": {},
   "outputs": [],
   "source": [
    "\n",
    "\n",
    "\n"
   ]
  },
  {
   "cell_type": "code",
   "execution_count": null,
   "metadata": {},
   "outputs": [],
   "source": []
  }
 ],
 "metadata": {
  "interpreter": {
   "hash": "dc28719d87756f064e9d65e11a403c8f0db464efd549554778e677e6a00d2981"
  },
  "kernelspec": {
   "display_name": "Python 3.8.8 64-bit ('base': conda)",
   "language": "python",
   "name": "python3"
  },
  "language_info": {
   "codemirror_mode": {
    "name": "ipython",
    "version": 3
   },
   "file_extension": ".py",
   "mimetype": "text/x-python",
   "name": "python",
   "nbconvert_exporter": "python",
   "pygments_lexer": "ipython3",
   "version": "3.8.8"
  },
  "orig_nbformat": 4
 },
 "nbformat": 4,
 "nbformat_minor": 2
}
