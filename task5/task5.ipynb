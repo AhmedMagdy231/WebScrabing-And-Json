{
 "cells": [
  {
   "cell_type": "code",
   "execution_count": 9,
   "metadata": {},
   "outputs": [],
   "source": [
    "import requests\n",
    "import csv\n",
    "url = 'https://www.metaweather.com/api/location/1521894/'\n",
    "respose = requests.get(url)\n",
    "data = respose.json()\n",
    "\n",
    "\n"
   ]
  },
  {
   "cell_type": "code",
   "execution_count": 18,
   "metadata": {},
   "outputs": [],
   "source": [
    "\n",
    "list_data_3_days = data['consolidated_weather'][:3]\n",
    "\n",
    "\n",
    "with open('weather.csv','w',newline='')as f:\n",
    "    Writer = csv.DictWriter(f,fieldnames=['temperature','speed wind','humidity','Visibility','pressure','date'])\n",
    "    Writer.writeheader()\n",
    "\n",
    "    for item in list_data_3_days:\n",
    "        temp = item['the_temp']\n",
    "        speedWind = item['wind_speed']\n",
    "        humidity = item['humidity']\n",
    "        visibility = item['visibility']\n",
    "        pressure = item['air_pressure']\n",
    "        date = item['applicable_date']\n",
    "\n",
    "        Writer.writerow({'temperature':round(temp,2), 'speed wind':round(speedWind,2), 'humidity':humidity, 'Visibility':round(visibility,2), 'pressure':pressure, 'date':str(date)})\n",
    "   \n",
    "\n",
    "\n",
    "\n"
   ]
  },
  {
   "cell_type": "code",
   "execution_count": null,
   "metadata": {},
   "outputs": [],
   "source": []
  }
 ],
 "metadata": {
  "interpreter": {
   "hash": "dc28719d87756f064e9d65e11a403c8f0db464efd549554778e677e6a00d2981"
  },
  "kernelspec": {
   "display_name": "Python 3.8.8 64-bit ('base': conda)",
   "language": "python",
   "name": "python3"
  },
  "language_info": {
   "codemirror_mode": {
    "name": "ipython",
    "version": 3
   },
   "file_extension": ".py",
   "mimetype": "text/x-python",
   "name": "python",
   "nbconvert_exporter": "python",
   "pygments_lexer": "ipython3",
   "version": "3.8.8"
  },
  "orig_nbformat": 4
 },
 "nbformat": 4,
 "nbformat_minor": 2
}
