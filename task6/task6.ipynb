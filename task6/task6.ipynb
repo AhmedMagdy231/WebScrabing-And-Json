{
 "cells": [
  {
   "cell_type": "code",
   "execution_count": 6,
   "metadata": {},
   "outputs": [],
   "source": [
    "import requests\n",
    "import csv\n",
    "url = 'https://jsonplaceholder.typicode.com/users'\n",
    "respose = requests.get(url)\n",
    "data = respose.json()\n"
   ]
  },
  {
   "cell_type": "code",
   "execution_count": 7,
   "metadata": {},
   "outputs": [],
   "source": [
    "\n",
    "with open('Users.csv','w',newline='')as f:\n",
    "    Writer = csv.DictWriter(f,fieldnames=['name','username','email','street','suite','city','zip code','geo_lat','geo_long'])\n",
    "    Writer.writeheader()\n",
    "\n",
    "\n",
    "    for item in data:\n",
    "        name = item['name']\n",
    "        userName = item['username']\n",
    "        email = item['email']\n",
    "        street = item['address']['street']\n",
    "        suite = item['address']['suite']\n",
    "        city = item['address']['city']\n",
    "        zipCode = item['address']['zipcode'] \n",
    "        gioLat = item['address']['geo']['lat']\n",
    "        geo_long = item['address']['geo']['lng']\n",
    "\n",
    "        Writer.writerow({'name':name , 'username':userName , 'email': email, 'street':street , 'suite':suite , 'city':city , 'zip code':zipCode , 'geo_lat':gioLat , 'geo_long':geo_long })\n",
    "\n",
    "\n"
   ]
  },
  {
   "cell_type": "code",
   "execution_count": null,
   "metadata": {},
   "outputs": [],
   "source": []
  }
 ],
 "metadata": {
  "interpreter": {
   "hash": "dc28719d87756f064e9d65e11a403c8f0db464efd549554778e677e6a00d2981"
  },
  "kernelspec": {
   "display_name": "Python 3.8.8 64-bit ('base': conda)",
   "language": "python",
   "name": "python3"
  },
  "language_info": {
   "codemirror_mode": {
    "name": "ipython",
    "version": 3
   },
   "file_extension": ".py",
   "mimetype": "text/x-python",
   "name": "python",
   "nbconvert_exporter": "python",
   "pygments_lexer": "ipython3",
   "version": "3.8.8"
  },
  "orig_nbformat": 4
 },
 "nbformat": 4,
 "nbformat_minor": 2
}
