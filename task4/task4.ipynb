{
 "cells": [
  {
   "cell_type": "code",
   "execution_count": 10,
   "metadata": {},
   "outputs": [
    {
     "name": "stdout",
     "output_type": "stream",
     "text": [
      "money That you Enter in dolar 50.0 USD\n",
      "money now in EUR is 44.107 EUR\n"
     ]
    }
   ],
   "source": [
    "import requests\n",
    "money_USD = float(input())\n",
    "url = f'https://api.frankfurter.app/latest?amount={money_USD}&from=USD&to=EUR'\n",
    "respose = requests.get(url)\n",
    "\n",
    "data = respose.json()\n",
    "data\n",
    "\n",
    "print(f'money That you Enter in dolar {money_USD} USD')\n",
    "print(f\"money now in EUR is {data.get('rates').get('EUR')} EUR\")"
   ]
  },
  {
   "cell_type": "code",
   "execution_count": null,
   "metadata": {},
   "outputs": [],
   "source": []
  }
 ],
 "metadata": {
  "language_info": {
   "name": "python"
  },
  "orig_nbformat": 4
 },
 "nbformat": 4,
 "nbformat_minor": 2
}
